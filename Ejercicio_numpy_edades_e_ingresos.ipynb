{
  "nbformat": 4,
  "nbformat_minor": 0,
  "metadata": {
    "colab": {
      "provenance": []
    },
    "kernelspec": {
      "name": "python3",
      "display_name": "Python 3"
    },
    "language_info": {
      "name": "python"
    }
  },
  "cells": [
    {
      "cell_type": "markdown",
      "source": [
        "<h1>Ejercicio NumPY</h1>"
      ],
      "metadata": {
        "id": "YMflc_xE6OV8"
      }
    },
    {
      "cell_type": "code",
      "source": [
        "import numpy as np"
      ],
      "metadata": {
        "id": "DJ3qmFO-66_F"
      },
      "execution_count": null,
      "outputs": []
    },
    {
      "cell_type": "code",
      "execution_count": null,
      "metadata": {
        "colab": {
          "base_uri": "https://localhost:8080/"
        },
        "id": "mtK5DynC6Ki3",
        "outputId": "fba2ba1e-d09c-4ba8-db30-34ed05f4a9dd"
      },
      "outputs": [
        {
          "output_type": "execute_result",
          "data": {
            "text/plain": [
              "array([[48., 20., 27.],\n",
              "       [28., 27., 39.],\n",
              "       [33., 30., 48.]])"
            ]
          },
          "metadata": {},
          "execution_count": 70
        }
      ],
      "source": [
        "edades = np.random.uniform(\n",
        "    size=(3,3),\n",
        "    low=20,\n",
        "    high=50\n",
        "    ).round()\n",
        "edades"
      ]
    },
    {
      "cell_type": "code",
      "source": [
        "ingresos = np.random.uniform(\n",
        "    size=(3,3),\n",
        "    low=2,\n",
        "    high=5\n",
        "    ).round(decimals=9)*1e3\n",
        "ingresos"
      ],
      "metadata": {
        "colab": {
          "base_uri": "https://localhost:8080/"
        },
        "id": "u_r9lM217FV9",
        "outputId": "c25e4ec6-68f2-4671-f536-18ca2a39d0db"
      },
      "execution_count": 85,
      "outputs": [
        {
          "output_type": "execute_result",
          "data": {
            "text/plain": [
              "array([[3271.752769, 4574.464808, 3049.994977],\n",
              "       [2550.386939, 4933.442179, 4983.773592],\n",
              "       [3619.999941, 4286.086744, 3792.791683]])"
            ]
          },
          "metadata": {},
          "execution_count": 85
        }
      ]
    },
    {
      "cell_type": "code",
      "source": [
        "union = np.stack([edades,ingresos], axis=2).reshape(9,2)\n",
        "union"
      ],
      "metadata": {
        "colab": {
          "base_uri": "https://localhost:8080/"
        },
        "id": "bLXaGrME7022",
        "outputId": "14a6c1e6-a93f-4faa-f4f8-cec34a253fb7"
      },
      "execution_count": 86,
      "outputs": [
        {
          "output_type": "execute_result",
          "data": {
            "text/plain": [
              "array([[  48.      , 3271.752769],\n",
              "       [  20.      , 4574.464808],\n",
              "       [  27.      , 3049.994977],\n",
              "       [  28.      , 2550.386939],\n",
              "       [  27.      , 4933.442179],\n",
              "       [  39.      , 4983.773592],\n",
              "       [  33.      , 3619.999941],\n",
              "       [  30.      , 4286.086744],\n",
              "       [  48.      , 3792.791683]])"
            ]
          },
          "metadata": {},
          "execution_count": 86
        }
      ]
    },
    {
      "cell_type": "code",
      "source": [
        "mayor_que = union >= [20,2e3]\n",
        "menor_que = union <= [30,5e3]\n",
        "filtro = np.logical_and(mayor_que,menor_que)\n",
        "filtro\n"
      ],
      "metadata": {
        "colab": {
          "base_uri": "https://localhost:8080/"
        },
        "id": "yx-9Yanj-shr",
        "outputId": "e543a2c4-3353-43eb-9f2d-64266444dc53"
      },
      "execution_count": 87,
      "outputs": [
        {
          "output_type": "execute_result",
          "data": {
            "text/plain": [
              "array([[False,  True],\n",
              "       [ True,  True],\n",
              "       [ True,  True],\n",
              "       [ True,  True],\n",
              "       [ True,  True],\n",
              "       [False,  True],\n",
              "       [False,  True],\n",
              "       [ True,  True],\n",
              "       [False,  True]])"
            ]
          },
          "metadata": {},
          "execution_count": 87
        }
      ]
    },
    {
      "cell_type": "code",
      "source": [
        "filtro_def = np.logical_and.reduce(filtro,1)\n",
        "filtro_def"
      ],
      "metadata": {
        "colab": {
          "base_uri": "https://localhost:8080/"
        },
        "id": "YrCWl87iC6hk",
        "outputId": "e1e020f3-c34c-465b-dd23-9f85454ee7c4"
      },
      "execution_count": 88,
      "outputs": [
        {
          "output_type": "execute_result",
          "data": {
            "text/plain": [
              "array([False,  True,  True,  True,  True, False, False,  True, False])"
            ]
          },
          "metadata": {},
          "execution_count": 88
        }
      ]
    },
    {
      "cell_type": "code",
      "source": [
        "res = union[filtro_def]\n",
        "res \n"
      ],
      "metadata": {
        "colab": {
          "base_uri": "https://localhost:8080/"
        },
        "id": "5Pc_4f63FBPH",
        "outputId": "9eb9783a-e122-4b4b-abc0-0e0f9d2eb54f"
      },
      "execution_count": 89,
      "outputs": [
        {
          "output_type": "execute_result",
          "data": {
            "text/plain": [
              "array([[  20.      , 4574.464808],\n",
              "       [  27.      , 3049.994977],\n",
              "       [  28.      , 2550.386939],\n",
              "       [  27.      , 4933.442179],\n",
              "       [  30.      , 4286.086744]])"
            ]
          },
          "metadata": {},
          "execution_count": 89
        }
      ]
    }
  ]
}