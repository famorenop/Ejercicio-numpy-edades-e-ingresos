{
  "nbformat": 4,
  "nbformat_minor": 0,
  "metadata": {
    "colab": {
      "provenance": []
    },
    "kernelspec": {
      "name": "python3",
      "display_name": "Python 3"
    },
    "language_info": {
      "name": "python"
    }
  },
  "cells": [
    {
      "cell_type": "markdown",
      "source": [
        "<h1>Ejercicio NumPY</h1>"
      ],
      "metadata": {
        "id": "YMflc_xE6OV8"
      }
    },
    {
      "cell_type": "code",
      "source": [
        "import numpy as np"
      ],
      "metadata": {
        "id": "DJ3qmFO-66_F"
      },
      "execution_count": null,
      "outputs": []
    },
    {
      "cell_type": "code",
      "execution_count": 90,
      "metadata": {
        "colab": {
          "base_uri": "https://localhost:8080/"
        },
        "id": "mtK5DynC6Ki3",
        "outputId": "9f7ae20d-55a3-448d-edc3-8b5217db532f"
      },
      "outputs": [
        {
          "output_type": "execute_result",
          "data": {
            "text/plain": [
              "array([[41., 47., 44.],\n",
              "       [46., 40., 21.],\n",
              "       [28., 27., 21.]])"
            ]
          },
          "metadata": {},
          "execution_count": 90
        }
      ],
      "source": [
        "edades = np.random.uniform(\n",
        "    size=(3,3),\n",
        "    low=20,\n",
        "    high=50\n",
        "    ).round()\n",
        "edades"
      ]
    },
    {
      "cell_type": "code",
      "source": [
        "ingresos = np.random.uniform(\n",
        "    size=(3,3),\n",
        "    low=2,\n",
        "    high=5\n",
        "    ).round(decimals=3)*1e3\n",
        "ingresos"
      ],
      "metadata": {
        "colab": {
          "base_uri": "https://localhost:8080/"
        },
        "id": "u_r9lM217FV9",
        "outputId": "4b708483-bc18-4203-e28a-aace66f54b6f"
      },
      "execution_count": 91,
      "outputs": [
        {
          "output_type": "execute_result",
          "data": {
            "text/plain": [
              "array([[2908., 4724., 4829.],\n",
              "       [2098., 2278., 3662.],\n",
              "       [3359., 4260., 2586.]])"
            ]
          },
          "metadata": {},
          "execution_count": 91
        }
      ]
    },
    {
      "cell_type": "code",
      "source": [
        "union = np.stack([edades,ingresos], axis=2).reshape(9,2)\n",
        "union"
      ],
      "metadata": {
        "colab": {
          "base_uri": "https://localhost:8080/"
        },
        "id": "bLXaGrME7022",
        "outputId": "1b72040c-149c-4536-d3ce-48cfc6bdfeba"
      },
      "execution_count": 92,
      "outputs": [
        {
          "output_type": "execute_result",
          "data": {
            "text/plain": [
              "array([[  41., 2908.],\n",
              "       [  47., 4724.],\n",
              "       [  44., 4829.],\n",
              "       [  46., 2098.],\n",
              "       [  40., 2278.],\n",
              "       [  21., 3662.],\n",
              "       [  28., 3359.],\n",
              "       [  27., 4260.],\n",
              "       [  21., 2586.]])"
            ]
          },
          "metadata": {},
          "execution_count": 92
        }
      ]
    },
    {
      "cell_type": "code",
      "source": [
        "mayor_que = union >= [20,2e3]\n",
        "menor_que = union <= [30,5e3]\n",
        "filtro = np.logical_and(mayor_que,menor_que)\n",
        "filtro\n"
      ],
      "metadata": {
        "colab": {
          "base_uri": "https://localhost:8080/"
        },
        "id": "yx-9Yanj-shr",
        "outputId": "1c1c037b-1208-4c40-a6f0-19045afb5fad"
      },
      "execution_count": 93,
      "outputs": [
        {
          "output_type": "execute_result",
          "data": {
            "text/plain": [
              "array([[False,  True],\n",
              "       [False,  True],\n",
              "       [False,  True],\n",
              "       [False,  True],\n",
              "       [False,  True],\n",
              "       [ True,  True],\n",
              "       [ True,  True],\n",
              "       [ True,  True],\n",
              "       [ True,  True]])"
            ]
          },
          "metadata": {},
          "execution_count": 93
        }
      ]
    },
    {
      "cell_type": "code",
      "source": [
        "filtro_def = np.logical_and.reduce(filtro,1)\n",
        "filtro_def"
      ],
      "metadata": {
        "colab": {
          "base_uri": "https://localhost:8080/"
        },
        "id": "YrCWl87iC6hk",
        "outputId": "8aa79608-7431-4ff4-d537-3c27baca0fdc"
      },
      "execution_count": 94,
      "outputs": [
        {
          "output_type": "execute_result",
          "data": {
            "text/plain": [
              "array([False, False, False, False, False,  True,  True,  True,  True])"
            ]
          },
          "metadata": {},
          "execution_count": 94
        }
      ]
    },
    {
      "cell_type": "code",
      "source": [
        "res = union[filtro_def]\n",
        "res \n"
      ],
      "metadata": {
        "colab": {
          "base_uri": "https://localhost:8080/"
        },
        "id": "5Pc_4f63FBPH",
        "outputId": "e773f6f8-a231-4faa-8ca3-64325d94c08b"
      },
      "execution_count": 95,
      "outputs": [
        {
          "output_type": "execute_result",
          "data": {
            "text/plain": [
              "array([[  21., 3662.],\n",
              "       [  28., 3359.],\n",
              "       [  27., 4260.],\n",
              "       [  21., 2586.]])"
            ]
          },
          "metadata": {},
          "execution_count": 95
        }
      ]
    }
  ]
}