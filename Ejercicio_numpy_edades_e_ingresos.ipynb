{
  "nbformat": 4,
  "nbformat_minor": 0,
  "metadata": {
    "colab": {
      "provenance": []
    },
    "kernelspec": {
      "name": "python3",
      "display_name": "Python 3"
    },
    "language_info": {
      "name": "python"
    }
  },
  "cells": [
    {
      "cell_type": "markdown",
      "source": [
        "<h1>Ejercicio NumPY</h1>"
      ],
      "metadata": {
        "id": "YMflc_xE6OV8"
      }
    },
    {
      "cell_type": "code",
      "source": [
        "import numpy as np"
      ],
      "metadata": {
        "id": "DJ3qmFO-66_F"
      },
      "execution_count": null,
      "outputs": []
    },
    {
      "cell_type": "code",
      "execution_count": null,
      "metadata": {
        "colab": {
          "base_uri": "https://localhost:8080/"
        },
        "id": "mtK5DynC6Ki3",
        "outputId": "fba2ba1e-d09c-4ba8-db30-34ed05f4a9dd"
      },
      "outputs": [
        {
          "output_type": "execute_result",
          "data": {
            "text/plain": [
              "array([[48., 20., 27.],\n",
              "       [28., 27., 39.],\n",
              "       [33., 30., 48.]])"
            ]
          },
          "metadata": {},
          "execution_count": 70
        }
      ],
      "source": [
        "edades = np.random.uniform(\n",
        "    size=(3,3),\n",
        "    low=20,\n",
        "    high=50\n",
        "    ).round()\n",
        "edades"
      ]
    },
    {
      "cell_type": "code",
      "source": [
        "ingresos = np.random.uniform(\n",
        "    size=(3,3),\n",
        "    low=2,\n",
        "    high=5\n",
        "    ).round(decimals=9)*1e6\n",
        "ingresos"
      ],
      "metadata": {
        "colab": {
          "base_uri": "https://localhost:8080/"
        },
        "id": "u_r9lM217FV9",
        "outputId": "8ac75ea4-c189-411a-8974-8bf8f752c3f1"
      },
      "execution_count": null,
      "outputs": [
        {
          "output_type": "execute_result",
          "data": {
            "text/plain": [
              "array([[2589360.68 , 2148875.241, 2103573.119],\n",
              "       [3198563.716, 2609296.171, 3562046.25 ],\n",
              "       [2172924.418, 4839919.881, 3188620.641]])"
            ]
          },
          "metadata": {},
          "execution_count": 71
        }
      ]
    },
    {
      "cell_type": "code",
      "source": [
        "union = np.stack([edades,ingresos], axis=2).reshape(9,2)\n",
        "union"
      ],
      "metadata": {
        "colab": {
          "base_uri": "https://localhost:8080/"
        },
        "id": "bLXaGrME7022",
        "outputId": "cd56dc2a-0d63-4e41-84fd-f98ef0ef87c1"
      },
      "execution_count": null,
      "outputs": [
        {
          "output_type": "execute_result",
          "data": {
            "text/plain": [
              "array([[4.80000000e+01, 2.58936068e+06],\n",
              "       [2.00000000e+01, 2.14887524e+06],\n",
              "       [2.70000000e+01, 2.10357312e+06],\n",
              "       [2.80000000e+01, 3.19856372e+06],\n",
              "       [2.70000000e+01, 2.60929617e+06],\n",
              "       [3.90000000e+01, 3.56204625e+06],\n",
              "       [3.30000000e+01, 2.17292442e+06],\n",
              "       [3.00000000e+01, 4.83991988e+06],\n",
              "       [4.80000000e+01, 3.18862064e+06]])"
            ]
          },
          "metadata": {},
          "execution_count": 72
        }
      ]
    },
    {
      "cell_type": "code",
      "source": [
        "mayor_que = union >= [20,2e6]\n",
        "menor_que = union <= [30,5e6]\n",
        "filtro = np.logical_and(mayor_que,menor_que)\n",
        "filtro\n"
      ],
      "metadata": {
        "colab": {
          "base_uri": "https://localhost:8080/"
        },
        "id": "yx-9Yanj-shr",
        "outputId": "e55d44aa-2104-465a-f81c-19bdb5b95b5f"
      },
      "execution_count": null,
      "outputs": [
        {
          "output_type": "execute_result",
          "data": {
            "text/plain": [
              "array([[False,  True],\n",
              "       [ True,  True],\n",
              "       [ True,  True],\n",
              "       [ True,  True],\n",
              "       [ True,  True],\n",
              "       [False,  True],\n",
              "       [False,  True],\n",
              "       [ True,  True],\n",
              "       [False,  True]])"
            ]
          },
          "metadata": {},
          "execution_count": 73
        }
      ]
    },
    {
      "cell_type": "code",
      "source": [
        "filtro_def = np.logical_and.reduce(filtro,1)\n",
        "filtro_def"
      ],
      "metadata": {
        "colab": {
          "base_uri": "https://localhost:8080/"
        },
        "id": "YrCWl87iC6hk",
        "outputId": "8fbe99ca-eeb9-4116-ceaa-03b44f0f28cd"
      },
      "execution_count": null,
      "outputs": [
        {
          "output_type": "execute_result",
          "data": {
            "text/plain": [
              "array([False,  True,  True,  True,  True, False, False,  True, False])"
            ]
          },
          "metadata": {},
          "execution_count": 80
        }
      ]
    },
    {
      "cell_type": "code",
      "source": [
        "res = union[filtro_def]\n",
        "res \n"
      ],
      "metadata": {
        "colab": {
          "base_uri": "https://localhost:8080/"
        },
        "id": "5Pc_4f63FBPH",
        "outputId": "f720a25d-45ba-430f-cc27-6e3039f5e6fc"
      },
      "execution_count": null,
      "outputs": [
        {
          "output_type": "execute_result",
          "data": {
            "text/plain": [
              "array([[2.00000000e+01, 2.14887524e+06],\n",
              "       [2.70000000e+01, 2.10357312e+06],\n",
              "       [2.80000000e+01, 3.19856372e+06],\n",
              "       [2.70000000e+01, 2.60929617e+06],\n",
              "       [3.00000000e+01, 4.83991988e+06]])"
            ]
          },
          "metadata": {},
          "execution_count": 81
        }
      ]
    }
  ]
}